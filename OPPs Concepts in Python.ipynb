{
 "cells": [
  {
   "cell_type": "code",
   "execution_count": null,
   "metadata": {},
   "outputs": [],
   "source": [
    "\n",
    "'''\n",
    "Author Name: Abhilasha Dave\n",
    "Date : 07/12/2018\n",
    "Description:\n",
    "This page covers all the object orianted programming concepts in python.\n",
    "Topics:\n",
    "1) Class and instances\n",
    "2) Class variables\n",
    "3) Class methods and Static methods\n",
    "4) Inheritance and creating sub-class\n",
    "5) Special dunder methods\n",
    "6) Property Decorators (Getter, Setter, Deleter)\n",
    "7) Polymorphisum\n",
    "8) Encapsulation\n",
    "9) Abastract class\n",
    "\n",
    "Topic 1: Class and instances\n",
    "    Class is the fundamental unit of abstraction. \n",
    "    Classes allows us to organize and group the data for real world problems.\n",
    "    Data and functions that are associated with class are known as attributes and methods respectively.\n",
    "    Method: it is a function associated with class\n",
    "For example: you want to maintain all the recors for online movie store.\n",
    "Each movie is goind to have data like:\n",
    "                    Movie name\n",
    "                    Release date\n",
    "                    Genre\n",
    "Thus it would be eaisier if we have a class whcich can create a blueprint for a movie and by using instance of the class\n",
    "we can create a new movie every time. \n",
    "                    \n",
    "'''"
   ]
  },
  {
   "cell_type": "code",
   "execution_count": 16,
   "metadata": {},
   "outputs": [
    {
     "name": "stdout",
     "output_type": "stream",
     "text": [
      "Movie Name: The Avengers\n",
      "Release Year: 2012\n",
      "Movie Gener: Action\n",
      "\n",
      "Movie Name: Avengers: Age of Ultron\n",
      "Release Year: 2015\n",
      "Movie Gener: Action\n",
      "\n",
      "Movie Name: Avengers: Infinity War\n",
      "Release Year: 2018\n",
      "Movie Gener: Action\n",
      "\n"
     ]
    }
   ],
   "source": [
    "class movie:\n",
    "    #special init method in python known as constructor which is also a dunder method\n",
    "    #every time we create the method in class it recive the instace as the first aregument thus here in python it called self\n",
    "    def __init__(self, movieName, releaseYear, genre):\n",
    "        #Instance variable unique to each instance\n",
    "        self.movieName = movieName\n",
    "        self.releaseYear = releaseYear\n",
    "        self.genre = genre\n",
    "    def fullMovieDetail(self):\n",
    "        return(f'Movie Name: {self.movieName}\\nRelease Year: {self.releaseYear}\\nMovie Gener: {self.genre}\\n')\n",
    "\n",
    "#create an instance mvi_1) for the class\n",
    "mvi_1 = movie('The Avengers', 2012, 'Action')\n",
    "\n",
    "#create an instance mvi_2) for the class\n",
    "mvi_2 = movie('Avengers: Age of Ultron', 2015, 'Action')\n",
    "\n",
    "#create an instance mvi_2) for the class\n",
    "mvi_3 = movie('Avengers: Infinity War', 2018, 'Action')\n",
    "print (mvi_1.fullMovieDetail())\n",
    "print (mvi_2.fullMovieDetail())\n",
    "print (mvi_3.fullMovieDetail())\n",
    "        \n",
    "    "
   ]
  },
  {
   "cell_type": "code",
   "execution_count": null,
   "metadata": {},
   "outputs": [],
   "source": [
    "'''\n",
    "Topic 2: class variables \n",
    "Class variables are the variables that are shared among all instance of a class\n",
    "Instance variable: they are unique for each instance\n",
    "while class variables should be the same throughout the class\n",
    "\n",
    "As we know that each movie has it's own IMDb rating for example here we have a class variable (IMDbRating)to set the IMDb rating \n",
    "for each movie.\n",
    "\n",
    "Here, the to set the director name it is a class variable and for each instance it will sets it's value\n",
    "\n",
    "'''"
   ]
  },
  {
   "cell_type": "code",
   "execution_count": 29,
   "metadata": {},
   "outputs": [
    {
     "name": "stdout",
     "output_type": "stream",
     "text": [
      "Movie Name: The Avengers\n",
      "Release Year: 2012\n",
      "Gener: Action\n",
      "Director: Joss Whedon\n",
      " \n",
      "Movie Name: ANT-MAN\n",
      "Release Year: 2015\n",
      "Gener: Action\n",
      "Director: Peyton Reed\n",
      " \n"
     ]
    }
   ],
   "source": [
    "class movie: \n",
    "    directorName = '' \n",
    "    def __init__(self, movieName, releaseYear, genre):\n",
    "        #Instance variable unique to each instance\n",
    "        self.movieName = movieName\n",
    "        self.releaseYear = releaseYear\n",
    "        self.genre = genre\n",
    "    def dictName(self, nameDirector):\n",
    "        self.directorName = nameDirector\n",
    "    def fullMovieDetail(self):\n",
    "        return(f'Movie Name: {self.movieName}\\nRelease Year: {self.releaseYear}\\nGener: {self.genre}\\nDirector: {self.directorName}\\n ')\n",
    "\n",
    "#create an instance mvi_1) for the class \n",
    "mvi_1 = movie('The Avengers', 2012, 'Action') \n",
    "mvi_1.dictName('Joss Whedon')\n",
    "\n",
    "#create an instance mvi_2) for the class \n",
    "mvi_2 = movie('ANT-MAN', 2015, 'Action') \n",
    "mvi_2.dictName('Peyton Reed')\n",
    "\n",
    "print(mvi_1.fullMovieDetail())\n",
    "print(mvi_2.fullMovieDetail())\n",
    "\n"
   ]
  },
  {
   "cell_type": "code",
   "execution_count": null,
   "metadata": {},
   "outputs": [],
   "source": [
    "'''\n",
    "Topic 3: Class methods and Static methods\n",
    "Regular methods: They take the instance as its first argument. Here, the instance is 'self'\n",
    "Class methods: Method associated with the class which takes the 'cls' as its first argument. To make the regular method to \n",
    "               class method the decorator '@classmethod' is being used.\n",
    "Static methods: Static method is does not take instance or a class as first argument. '@staticmethod' decorator is used for \n",
    "                static method inside the class.\n",
    "                \n",
    "Here, as a class method suppose we want to parse a movie. The parseMovie is work as an alternative constructor for the class\n",
    "'''"
   ]
  },
  {
   "cell_type": "code",
   "execution_count": 58,
   "metadata": {},
   "outputs": [
    {
     "name": "stdout",
     "output_type": "stream",
     "text": [
      "Movie Name: Thor\n",
      "Release Year: 2011\n",
      "Gener: Action\n",
      "Director: Kenneth Branagh \n",
      "Average rating: 4.3\n",
      "\n",
      "Movie Name: SpiderMan\n",
      "Release Year: 2002\n",
      "Gener: Action\n",
      "Director: Sam Raimi \n",
      "Average rating: 4.2\n",
      "\n"
     ]
    }
   ],
   "source": [
    "class movie: \n",
    "    #class variable\n",
    "    directorName = '' \n",
    "    \n",
    "    def __init__(self, movieName, releaseYear, genre,directorName):\n",
    "        #Instance variable unique to each instance\n",
    "        self.movieName = movieName\n",
    "        self.releaseYear = releaseYear\n",
    "        self.genre = genre\n",
    "        self.directorName = directorName\n",
    "        \n",
    "    def dictName(self, nameDirector):\n",
    "        self.directorName = nameDirector\n",
    "    \n",
    "    def fullMovieDetail(self):\n",
    "        return(f'Movie Name: {self.movieName}\\nRelease Year: {self.releaseYear}\\nGener: {self.genre}\\nDirector: {self.directorName} ')\n",
    "    \n",
    "    #class method\n",
    "    @classmethod\n",
    "    def parseMovie(cls, movieString):\n",
    "        movieName,releaseYear,genre,directorName = movieString.split('-')\n",
    "        return (cls(movieName,releaseYear,genre,directorName))\n",
    "    \n",
    "    #static method\n",
    "    @staticmethod\n",
    "    def movieRating(voteArray):\n",
    "        voteSum =  0\n",
    "        totalVote = len(voteArray)\n",
    "        for vote in (voteArray):\n",
    "            voteSum += vote\n",
    "        AverageMovieRating = round ((voteSum / totalVote),1)\n",
    "        return (AverageMovieRating)\n",
    "        \n",
    "    \n",
    "movie_string1 = 'Thor-2011-Action-Kenneth Branagh'\n",
    "movie_string2 = 'SpiderMan-2002-Action-Sam Raimi'\n",
    "\n",
    "mvi1 = movie.parseMovie(movie_string1)\n",
    "avgRating = mvi1.movieRating([5,5,5,4,4.5,3,3.5,4,4,4,4,5,5])\n",
    "\n",
    "print(mvi1.fullMovieDetail())\n",
    "print(f'Average rating: {avgRating}\\n')\n",
    "\n",
    "mvi2 = movie.parseMovie(movie_string2)\n",
    "avgRating = mvi2.movieRating([5,5,5,4,4.5,3,3.5,4,4,4,4,5,5,5,5,4,5,5,3,3,2])\n",
    "\n",
    "print(mvi2.fullMovieDetail())\n",
    "print(f'Average rating: {avgRating}\\n')\n",
    "        "
   ]
  }
 ],
 "metadata": {
  "kernelspec": {
   "display_name": "Python 3",
   "language": "python",
   "name": "python3"
  },
  "language_info": {
   "codemirror_mode": {
    "name": "ipython",
    "version": 3
   },
   "file_extension": ".py",
   "mimetype": "text/x-python",
   "name": "python",
   "nbconvert_exporter": "python",
   "pygments_lexer": "ipython3",
   "version": "3.6.5"
  }
 },
 "nbformat": 4,
 "nbformat_minor": 2
}
